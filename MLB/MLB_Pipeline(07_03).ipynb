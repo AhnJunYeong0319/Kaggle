{
  "nbformat": 4,
  "nbformat_minor": 0,
  "metadata": {
    "colab": {
      "name": "MLB-Pipeline(07.03).ipynb",
      "provenance": [],
      "collapsed_sections": [],
      "toc_visible": true
    },
    "kernelspec": {
      "name": "python3",
      "display_name": "Python 3"
    },
    "language_info": {
      "name": "python"
    },
    "widgets": {
      "application/vnd.jupyter.widget-state+json": {
        "c5386820c3454f8394a6901cb70621f1": {
          "model_module": "@jupyter-widgets/controls",
          "model_name": "TabModel",
          "state": {
            "_view_name": "TabView",
            "_dom_classes": [],
            "_titles": {
              "0": "teams",
              "1": "seasons",
              "2": "players",
              "3": "awards"
            },
            "_model_name": "TabModel",
            "_view_module": "@jupyter-widgets/controls",
            "selected_index": 0,
            "_model_module_version": "1.5.0",
            "_view_count": null,
            "_view_module_version": "1.5.0",
            "box_style": "",
            "layout": "IPY_MODEL_d0fe80be589848b3ad7d702b895f2121",
            "_model_module": "@jupyter-widgets/controls",
            "children": [
              "IPY_MODEL_daeaa53b98564478b2709a7807e16ecd",
              "IPY_MODEL_81f78160fa1b4dc380a0e1d6e4b4de91",
              "IPY_MODEL_568b34002c254dfcb62502165d0838aa",
              "IPY_MODEL_3d367171962347cb812d484f27124ec9"
            ]
          }
        },
        "d0fe80be589848b3ad7d702b895f2121": {
          "model_module": "@jupyter-widgets/base",
          "model_name": "LayoutModel",
          "state": {
            "_view_name": "LayoutView",
            "grid_template_rows": null,
            "right": null,
            "justify_content": null,
            "_view_module": "@jupyter-widgets/base",
            "overflow": null,
            "_model_module_version": "1.2.0",
            "_view_count": null,
            "flex_flow": null,
            "width": null,
            "min_width": null,
            "border": null,
            "align_items": null,
            "bottom": null,
            "_model_module": "@jupyter-widgets/base",
            "top": null,
            "grid_column": null,
            "overflow_y": null,
            "overflow_x": null,
            "grid_auto_flow": null,
            "grid_area": null,
            "grid_template_columns": null,
            "flex": null,
            "_model_name": "LayoutModel",
            "justify_items": null,
            "grid_row": null,
            "max_height": null,
            "align_content": null,
            "visibility": null,
            "align_self": null,
            "height": null,
            "min_height": null,
            "padding": null,
            "grid_auto_rows": null,
            "grid_gap": null,
            "max_width": null,
            "order": null,
            "_view_module_version": "1.2.0",
            "grid_template_areas": null,
            "object_position": null,
            "object_fit": null,
            "grid_auto_columns": null,
            "margin": null,
            "display": null,
            "left": null
          }
        },
        "daeaa53b98564478b2709a7807e16ecd": {
          "model_module": "@jupyter-widgets/output",
          "model_name": "OutputModel",
          "state": {
            "_view_name": "OutputView",
            "msg_id": "",
            "_dom_classes": [],
            "_model_name": "OutputModel",
            "outputs": [
              {
                "output_type": "display_data",
                "metadata": {
                  "tags": []
                },
                "text/html": "<div>\n<style scoped>\n    .dataframe tbody tr th:only-of-type {\n        vertical-align: middle;\n    }\n\n    .dataframe tbody tr th {\n        vertical-align: top;\n    }\n\n    .dataframe thead th {\n        text-align: right;\n    }\n</style>\n<table border=\"1\" class=\"dataframe\">\n  <thead>\n    <tr style=\"text-align: right;\">\n      <th></th>\n      <th>id</th>\n      <th>name</th>\n      <th>teamName</th>\n      <th>teamCode</th>\n      <th>shortName</th>\n      <th>abbreviation</th>\n      <th>locationName</th>\n      <th>leagueId</th>\n      <th>leagueName</th>\n      <th>divisionId</th>\n      <th>divisionName</th>\n      <th>venueId</th>\n      <th>venueName</th>\n    </tr>\n  </thead>\n  <tbody>\n    <tr>\n      <th>0</th>\n      <td>108</td>\n      <td>Los Angeles Angels</td>\n      <td>Angels</td>\n      <td>ana</td>\n      <td>LA Angels</td>\n      <td>LAA</td>\n      <td>Anaheim</td>\n      <td>103</td>\n      <td>American League</td>\n      <td>200</td>\n      <td>American League West</td>\n      <td>1</td>\n      <td>Angel Stadium</td>\n    </tr>\n    <tr>\n      <th>1</th>\n      <td>109</td>\n      <td>Arizona Diamondbacks</td>\n      <td>D-backs</td>\n      <td>ari</td>\n      <td>Arizona</td>\n      <td>ARI</td>\n      <td>Phoenix</td>\n      <td>104</td>\n      <td>National League</td>\n      <td>203</td>\n      <td>National League West</td>\n      <td>15</td>\n      <td>Chase Field</td>\n    </tr>\n    <tr>\n      <th>2</th>\n      <td>110</td>\n      <td>Baltimore Orioles</td>\n      <td>Orioles</td>\n      <td>bal</td>\n      <td>Baltimore</td>\n      <td>BAL</td>\n      <td>Baltimore</td>\n      <td>103</td>\n      <td>American League</td>\n      <td>201</td>\n      <td>American League East</td>\n      <td>2</td>\n      <td>Oriole Park at Camden Yards</td>\n    </tr>\n    <tr>\n      <th>3</th>\n      <td>111</td>\n      <td>Boston Red Sox</td>\n      <td>Red Sox</td>\n      <td>bos</td>\n      <td>Boston</td>\n      <td>BOS</td>\n      <td>Boston</td>\n      <td>103</td>\n      <td>American League</td>\n      <td>201</td>\n      <td>American League East</td>\n      <td>3</td>\n      <td>Fenway Park</td>\n    </tr>\n    <tr>\n      <th>4</th>\n      <td>112</td>\n      <td>Chicago Cubs</td>\n      <td>Cubs</td>\n      <td>chn</td>\n      <td>Chi Cubs</td>\n      <td>CHC</td>\n      <td>Chicago</td>\n      <td>104</td>\n      <td>National League</td>\n      <td>205</td>\n      <td>National League Central</td>\n      <td>17</td>\n      <td>Wrigley Field</td>\n    </tr>\n    <tr>\n      <th>5</th>\n      <td>113</td>\n      <td>Cincinnati Reds</td>\n      <td>Reds</td>\n      <td>cin</td>\n      <td>Cincinnati</td>\n      <td>CIN</td>\n      <td>Cincinnati</td>\n      <td>104</td>\n      <td>National League</td>\n      <td>205</td>\n      <td>National League Central</td>\n      <td>2602</td>\n      <td>Great American Ball Park</td>\n    </tr>\n    <tr>\n      <th>6</th>\n      <td>114</td>\n      <td>Cleveland Indians</td>\n      <td>Indians</td>\n      <td>cle</td>\n      <td>Cleveland</td>\n      <td>CLE</td>\n      <td>Cleveland</td>\n      <td>103</td>\n      <td>American League</td>\n      <td>202</td>\n      <td>American League Central</td>\n      <td>5</td>\n      <td>Progressive Field</td>\n    </tr>\n    <tr>\n      <th>7</th>\n      <td>115</td>\n      <td>Colorado Rockies</td>\n      <td>Rockies</td>\n      <td>col</td>\n      <td>Colorado</td>\n      <td>COL</td>\n      <td>Denver</td>\n      <td>104</td>\n      <td>National League</td>\n      <td>203</td>\n      <td>National League West</td>\n      <td>19</td>\n      <td>Coors Field</td>\n    </tr>\n    <tr>\n      <th>8</th>\n      <td>116</td>\n      <td>Detroit Tigers</td>\n      <td>Tigers</td>\n      <td>det</td>\n      <td>Detroit</td>\n      <td>DET</td>\n      <td>Detroit</td>\n      <td>103</td>\n      <td>American League</td>\n      <td>202</td>\n      <td>American League Central</td>\n      <td>2394</td>\n      <td>Comerica Park</td>\n    </tr>\n    <tr>\n      <th>9</th>\n      <td>117</td>\n      <td>Houston Astros</td>\n      <td>Astros</td>\n      <td>hou</td>\n      <td>Houston</td>\n      <td>HOU</td>\n      <td>Houston</td>\n      <td>103</td>\n      <td>American League</td>\n      <td>200</td>\n      <td>American League West</td>\n      <td>2392</td>\n      <td>Minute Maid Park</td>\n    </tr>\n    <tr>\n      <th>10</th>\n      <td>118</td>\n      <td>Kansas City Royals</td>\n      <td>Royals</td>\n      <td>kca</td>\n      <td>Kansas City</td>\n      <td>KC</td>\n      <td>Kansas City</td>\n      <td>103</td>\n      <td>American League</td>\n      <td>202</td>\n      <td>American League Central</td>\n      <td>7</td>\n      <td>Kauffman Stadium</td>\n    </tr>\n    <tr>\n      <th>11</th>\n      <td>119</td>\n      <td>Los Angeles Dodgers</td>\n      <td>Dodgers</td>\n      <td>lan</td>\n      <td>LA Dodgers</td>\n      <td>LAD</td>\n      <td>Los Angeles</td>\n      <td>104</td>\n      <td>National League</td>\n      <td>203</td>\n      <td>National League West</td>\n      <td>22</td>\n      <td>Dodger Stadium</td>\n    </tr>\n    <tr>\n      <th>12</th>\n      <td>120</td>\n      <td>Washington Nationals</td>\n      <td>Nationals</td>\n      <td>was</td>\n      <td>Washington</td>\n      <td>WSH</td>\n      <td>Washington</td>\n      <td>104</td>\n      <td>National League</td>\n      <td>204</td>\n      <td>National League East</td>\n      <td>3309</td>\n      <td>Nationals Park</td>\n    </tr>\n    <tr>\n      <th>13</th>\n      <td>121</td>\n      <td>New York Mets</td>\n      <td>Mets</td>\n      <td>nyn</td>\n      <td>NY Mets</td>\n      <td>NYM</td>\n      <td>Flushing</td>\n      <td>104</td>\n      <td>National League</td>\n      <td>204</td>\n      <td>National League East</td>\n      <td>3289</td>\n      <td>Citi Field</td>\n    </tr>\n    <tr>\n      <th>14</th>\n      <td>133</td>\n      <td>Oakland Athletics</td>\n      <td>Athletics</td>\n      <td>oak</td>\n      <td>Oakland</td>\n      <td>OAK</td>\n      <td>Oakland</td>\n      <td>103</td>\n      <td>American League</td>\n      <td>200</td>\n      <td>American League West</td>\n      <td>10</td>\n      <td>Oakland Coliseum</td>\n    </tr>\n    <tr>\n      <th>15</th>\n      <td>134</td>\n      <td>Pittsburgh Pirates</td>\n      <td>Pirates</td>\n      <td>pit</td>\n      <td>Pittsburgh</td>\n      <td>PIT</td>\n      <td>Pittsburgh</td>\n      <td>104</td>\n      <td>National League</td>\n      <td>205</td>\n      <td>National League Central</td>\n      <td>31</td>\n      <td>PNC Park</td>\n    </tr>\n    <tr>\n      <th>16</th>\n      <td>135</td>\n      <td>San Diego Padres</td>\n      <td>Padres</td>\n      <td>sdn</td>\n      <td>San Diego</td>\n      <td>SD</td>\n      <td>San Diego</td>\n      <td>104</td>\n      <td>National League</td>\n      <td>203</td>\n      <td>National League West</td>\n      <td>2680</td>\n      <td>Petco Park</td>\n    </tr>\n    <tr>\n      <th>17</th>\n      <td>136</td>\n      <td>Seattle Mariners</td>\n      <td>Mariners</td>\n      <td>sea</td>\n      <td>Seattle</td>\n      <td>SEA</td>\n      <td>Seattle</td>\n      <td>103</td>\n      <td>American League</td>\n      <td>200</td>\n      <td>American League West</td>\n      <td>680</td>\n      <td>T-Mobile Park</td>\n    </tr>\n    <tr>\n      <th>18</th>\n      <td>137</td>\n      <td>San Francisco Giants</td>\n      <td>Giants</td>\n      <td>sfn</td>\n      <td>San Francisco</td>\n      <td>SF</td>\n      <td>San Francisco</td>\n      <td>104</td>\n      <td>National League</td>\n      <td>203</td>\n      <td>National League West</td>\n      <td>2395</td>\n      <td>Oracle Park</td>\n    </tr>\n    <tr>\n      <th>19</th>\n      <td>138</td>\n      <td>St. Louis Cardinals</td>\n      <td>Cardinals</td>\n      <td>sln</td>\n      <td>St. Louis</td>\n      <td>STL</td>\n      <td>St. Louis</td>\n      <td>104</td>\n      <td>National League</td>\n      <td>205</td>\n      <td>National League Central</td>\n      <td>2889</td>\n      <td>Busch Stadium</td>\n    </tr>\n    <tr>\n      <th>20</th>\n      <td>139</td>\n      <td>Tampa Bay Rays</td>\n      <td>Rays</td>\n      <td>tba</td>\n      <td>Tampa Bay</td>\n      <td>TB</td>\n      <td>St. Petersburg</td>\n      <td>103</td>\n      <td>American League</td>\n      <td>201</td>\n      <td>American League East</td>\n      <td>12</td>\n      <td>Tropicana Field</td>\n    </tr>\n    <tr>\n      <th>21</th>\n      <td>140</td>\n      <td>Texas Rangers</td>\n      <td>Rangers</td>\n      <td>tex</td>\n      <td>Texas</td>\n      <td>TEX</td>\n      <td>Arlington</td>\n      <td>103</td>\n      <td>American League</td>\n      <td>200</td>\n      <td>American League West</td>\n      <td>5325</td>\n      <td>Globe Life Field</td>\n    </tr>\n    <tr>\n      <th>22</th>\n      <td>141</td>\n      <td>Toronto Blue Jays</td>\n      <td>Blue Jays</td>\n      <td>tor</td>\n      <td>Toronto</td>\n      <td>TOR</td>\n      <td>Toronto</td>\n      <td>103</td>\n      <td>American League</td>\n      <td>201</td>\n      <td>American League East</td>\n      <td>14</td>\n      <td>Rogers Centre</td>\n    </tr>\n    <tr>\n      <th>23</th>\n      <td>142</td>\n      <td>Minnesota Twins</td>\n      <td>Twins</td>\n      <td>min</td>\n      <td>Minnesota</td>\n      <td>MIN</td>\n      <td>Minneapolis</td>\n      <td>103</td>\n      <td>American League</td>\n      <td>202</td>\n      <td>American League Central</td>\n      <td>3312</td>\n      <td>Target Field</td>\n    </tr>\n    <tr>\n      <th>24</th>\n      <td>143</td>\n      <td>Philadelphia Phillies</td>\n      <td>Phillies</td>\n      <td>phi</td>\n      <td>Philadelphia</td>\n      <td>PHI</td>\n      <td>Philadelphia</td>\n      <td>104</td>\n      <td>National League</td>\n      <td>204</td>\n      <td>National League East</td>\n      <td>2681</td>\n      <td>Citizens Bank Park</td>\n    </tr>\n    <tr>\n      <th>25</th>\n      <td>144</td>\n      <td>Atlanta Braves</td>\n      <td>Braves</td>\n      <td>atl</td>\n      <td>Atlanta</td>\n      <td>ATL</td>\n      <td>Atlanta</td>\n      <td>104</td>\n      <td>National League</td>\n      <td>204</td>\n      <td>National League East</td>\n      <td>4705</td>\n      <td>Truist Park</td>\n    </tr>\n    <tr>\n      <th>26</th>\n      <td>145</td>\n      <td>Chicago White Sox</td>\n      <td>White Sox</td>\n      <td>cha</td>\n      <td>Chi White Sox</td>\n      <td>CWS</td>\n      <td>Chicago</td>\n      <td>103</td>\n      <td>American League</td>\n      <td>202</td>\n      <td>American League Central</td>\n      <td>4</td>\n      <td>Guaranteed Rate Field</td>\n    </tr>\n    <tr>\n      <th>27</th>\n      <td>146</td>\n      <td>Miami Marlins</td>\n      <td>Marlins</td>\n      <td>mia</td>\n      <td>Miami</td>\n      <td>MIA</td>\n      <td>Miami</td>\n      <td>104</td>\n      <td>National League</td>\n      <td>204</td>\n      <td>National League East</td>\n      <td>4169</td>\n      <td>loanDepot park</td>\n    </tr>\n    <tr>\n      <th>28</th>\n      <td>147</td>\n      <td>New York Yankees</td>\n      <td>Yankees</td>\n      <td>nya</td>\n      <td>NY Yankees</td>\n      <td>NYY</td>\n      <td>Bronx</td>\n      <td>103</td>\n      <td>American League</td>\n      <td>201</td>\n      <td>American League East</td>\n      <td>3313</td>\n      <td>Yankee Stadium</td>\n    </tr>\n    <tr>\n      <th>29</th>\n      <td>158</td>\n      <td>Milwaukee Brewers</td>\n      <td>Brewers</td>\n      <td>mil</td>\n      <td>Milwaukee</td>\n      <td>MIL</td>\n      <td>Milwaukee</td>\n      <td>104</td>\n      <td>National League</td>\n      <td>205</td>\n      <td>National League Central</td>\n      <td>32</td>\n      <td>American Family Field</td>\n    </tr>\n  </tbody>\n</table>\n</div>",
                "text/plain": "     id                   name  ... venueId                    venueName\n0   108     Los Angeles Angels  ...       1                Angel Stadium\n1   109   Arizona Diamondbacks  ...      15                  Chase Field\n2   110      Baltimore Orioles  ...       2  Oriole Park at Camden Yards\n3   111         Boston Red Sox  ...       3                  Fenway Park\n4   112           Chicago Cubs  ...      17                Wrigley Field\n5   113        Cincinnati Reds  ...    2602     Great American Ball Park\n6   114      Cleveland Indians  ...       5            Progressive Field\n7   115       Colorado Rockies  ...      19                  Coors Field\n8   116         Detroit Tigers  ...    2394                Comerica Park\n9   117         Houston Astros  ...    2392             Minute Maid Park\n10  118     Kansas City Royals  ...       7             Kauffman Stadium\n11  119    Los Angeles Dodgers  ...      22               Dodger Stadium\n12  120   Washington Nationals  ...    3309               Nationals Park\n13  121          New York Mets  ...    3289                   Citi Field\n14  133      Oakland Athletics  ...      10             Oakland Coliseum\n15  134     Pittsburgh Pirates  ...      31                     PNC Park\n16  135       San Diego Padres  ...    2680                   Petco Park\n17  136       Seattle Mariners  ...     680                T-Mobile Park\n18  137   San Francisco Giants  ...    2395                  Oracle Park\n19  138    St. Louis Cardinals  ...    2889                Busch Stadium\n20  139         Tampa Bay Rays  ...      12              Tropicana Field\n21  140          Texas Rangers  ...    5325             Globe Life Field\n22  141      Toronto Blue Jays  ...      14                Rogers Centre\n23  142        Minnesota Twins  ...    3312                 Target Field\n24  143  Philadelphia Phillies  ...    2681           Citizens Bank Park\n25  144         Atlanta Braves  ...    4705                  Truist Park\n26  145      Chicago White Sox  ...       4        Guaranteed Rate Field\n27  146          Miami Marlins  ...    4169               loanDepot park\n28  147       New York Yankees  ...    3313               Yankee Stadium\n29  158      Milwaukee Brewers  ...      32        American Family Field\n\n[30 rows x 13 columns]"
              }
            ],
            "_view_module": "@jupyter-widgets/output",
            "_model_module_version": "1.0.0",
            "_view_count": null,
            "_view_module_version": "1.0.0",
            "layout": "IPY_MODEL_de3adf1da0e64b1e90031ad660a963a7",
            "_model_module": "@jupyter-widgets/output"
          }
        },
        "81f78160fa1b4dc380a0e1d6e4b4de91": {
          "model_module": "@jupyter-widgets/output",
          "model_name": "OutputModel",
          "state": {
            "_view_name": "OutputView",
            "msg_id": "",
            "_dom_classes": [],
            "_model_name": "OutputModel",
            "outputs": [
              {
                "output_type": "display_data",
                "metadata": {
                  "tags": []
                },
                "text/html": "<div>\n<style scoped>\n    .dataframe tbody tr th:only-of-type {\n        vertical-align: middle;\n    }\n\n    .dataframe tbody tr th {\n        vertical-align: top;\n    }\n\n    .dataframe thead th {\n        text-align: right;\n    }\n</style>\n<table border=\"1\" class=\"dataframe\">\n  <thead>\n    <tr style=\"text-align: right;\">\n      <th></th>\n      <th>seasonId</th>\n      <th>seasonStartDate</th>\n      <th>seasonEndDate</th>\n      <th>preSeasonStartDate</th>\n      <th>preSeasonEndDate</th>\n      <th>regularSeasonStartDate</th>\n      <th>regularSeasonEndDate</th>\n      <th>lastDate1stHalf</th>\n      <th>allStarDate</th>\n      <th>firstDate2ndHalf</th>\n      <th>postSeasonStartDate</th>\n      <th>postSeasonEndDate</th>\n    </tr>\n  </thead>\n  <tbody>\n    <tr>\n      <th>0</th>\n      <td>2017</td>\n      <td>2017-04-02</td>\n      <td>2017-11-01</td>\n      <td>2017-02-22</td>\n      <td>2017-04-01</td>\n      <td>2017-04-02</td>\n      <td>2017-10-01</td>\n      <td>2017-07-09</td>\n      <td>2017-07-11</td>\n      <td>2017-07-14</td>\n      <td>2017-10-03</td>\n      <td>2017-11-01</td>\n    </tr>\n    <tr>\n      <th>1</th>\n      <td>2018</td>\n      <td>2018-03-29</td>\n      <td>2018-10-28</td>\n      <td>2018-02-21</td>\n      <td>2018-03-27</td>\n      <td>2018-03-29</td>\n      <td>2018-10-01</td>\n      <td>2018-07-15</td>\n      <td>2018-07-17</td>\n      <td>2018-07-19</td>\n      <td>2018-10-02</td>\n      <td>2018-10-28</td>\n    </tr>\n    <tr>\n      <th>2</th>\n      <td>2019</td>\n      <td>2019-03-20</td>\n      <td>2019-10-30</td>\n      <td>2019-02-21</td>\n      <td>2019-03-26</td>\n      <td>2019-03-20</td>\n      <td>2019-09-29</td>\n      <td>2019-07-07</td>\n      <td>2019-07-09</td>\n      <td>2019-07-11</td>\n      <td>2019-10-01</td>\n      <td>2019-10-30</td>\n    </tr>\n    <tr>\n      <th>3</th>\n      <td>2020</td>\n      <td>2020-07-23</td>\n      <td>2020-10-28</td>\n      <td>2020-02-21</td>\n      <td>2020-07-22</td>\n      <td>2020-07-23</td>\n      <td>2020-09-27</td>\n      <td>2020-08-25</td>\n      <td>NaN</td>\n      <td>2020-08-26</td>\n      <td>2020-09-29</td>\n      <td>2020-10-28</td>\n    </tr>\n    <tr>\n      <th>4</th>\n      <td>2021</td>\n      <td>2021-02-28</td>\n      <td>2021-10-31</td>\n      <td>2021-02-28</td>\n      <td>2021-03-30</td>\n      <td>2021-04-01</td>\n      <td>2021-10-03</td>\n      <td>2021-07-11</td>\n      <td>2021-07-13</td>\n      <td>2021-07-15</td>\n      <td>2021-10-04</td>\n      <td>2021-10-31</td>\n    </tr>\n  </tbody>\n</table>\n</div>",
                "text/plain": "   seasonId seasonStartDate  ... postSeasonStartDate postSeasonEndDate\n0      2017      2017-04-02  ...          2017-10-03        2017-11-01\n1      2018      2018-03-29  ...          2018-10-02        2018-10-28\n2      2019      2019-03-20  ...          2019-10-01        2019-10-30\n3      2020      2020-07-23  ...          2020-09-29        2020-10-28\n4      2021      2021-02-28  ...          2021-10-04        2021-10-31\n\n[5 rows x 12 columns]"
              }
            ],
            "_view_module": "@jupyter-widgets/output",
            "_model_module_version": "1.0.0",
            "_view_count": null,
            "_view_module_version": "1.0.0",
            "layout": "IPY_MODEL_5e09827e43ae4a9eb76119cfe7be1b77",
            "_model_module": "@jupyter-widgets/output"
          }
        },
        "568b34002c254dfcb62502165d0838aa": {
          "model_module": "@jupyter-widgets/output",
          "model_name": "OutputModel",
          "state": {
            "_view_name": "OutputView",
            "msg_id": "",
            "_dom_classes": [],
            "_model_name": "OutputModel",
            "outputs": [
              {
                "output_type": "display_data",
                "metadata": {
                  "tags": []
                },
                "text/html": "<div>\n<style scoped>\n    .dataframe tbody tr th:only-of-type {\n        vertical-align: middle;\n    }\n\n    .dataframe tbody tr th {\n        vertical-align: top;\n    }\n\n    .dataframe thead th {\n        text-align: right;\n    }\n</style>\n<table border=\"1\" class=\"dataframe\">\n  <thead>\n    <tr style=\"text-align: right;\">\n      <th></th>\n      <th>playerId</th>\n      <th>playerName</th>\n      <th>DOB</th>\n      <th>mlbDebutDate</th>\n      <th>birthCity</th>\n      <th>birthStateProvince</th>\n      <th>birthCountry</th>\n      <th>heightInches</th>\n      <th>weight</th>\n      <th>primaryPositionCode</th>\n      <th>primaryPositionName</th>\n      <th>playerForTestSetAndFuturePreds</th>\n    </tr>\n  </thead>\n  <tbody>\n    <tr>\n      <th>0</th>\n      <td>665482</td>\n      <td>Gilberto Celestino</td>\n      <td>1999-02-13</td>\n      <td>2021-06-02</td>\n      <td>Santo Domingo</td>\n      <td>NaN</td>\n      <td>Dominican Republic</td>\n      <td>72</td>\n      <td>170</td>\n      <td>8</td>\n      <td>Outfielder</td>\n      <td>False</td>\n    </tr>\n    <tr>\n      <th>1</th>\n      <td>593590</td>\n      <td>Webster Rivas</td>\n      <td>1990-08-08</td>\n      <td>2021-05-28</td>\n      <td>Nagua</td>\n      <td>NaN</td>\n      <td>Dominican Republic</td>\n      <td>73</td>\n      <td>219</td>\n      <td>3</td>\n      <td>First Base</td>\n      <td>True</td>\n    </tr>\n    <tr>\n      <th>2</th>\n      <td>661269</td>\n      <td>Vladimir Gutierrez</td>\n      <td>1995-09-18</td>\n      <td>2021-05-28</td>\n      <td>Havana</td>\n      <td>NaN</td>\n      <td>Cuba</td>\n      <td>73</td>\n      <td>190</td>\n      <td>1</td>\n      <td>Pitcher</td>\n      <td>True</td>\n    </tr>\n    <tr>\n      <th>3</th>\n      <td>669212</td>\n      <td>Eli Morgan</td>\n      <td>1996-05-13</td>\n      <td>2021-05-28</td>\n      <td>Rancho Palos Verdes</td>\n      <td>CA</td>\n      <td>USA</td>\n      <td>70</td>\n      <td>190</td>\n      <td>1</td>\n      <td>Pitcher</td>\n      <td>True</td>\n    </tr>\n    <tr>\n      <th>4</th>\n      <td>666201</td>\n      <td>Alek Manoah</td>\n      <td>1998-01-09</td>\n      <td>2021-05-27</td>\n      <td>Homestead</td>\n      <td>FL</td>\n      <td>USA</td>\n      <td>78</td>\n      <td>260</td>\n      <td>1</td>\n      <td>Pitcher</td>\n      <td>True</td>\n    </tr>\n    <tr>\n      <th>...</th>\n      <td>...</td>\n      <td>...</td>\n      <td>...</td>\n      <td>...</td>\n      <td>...</td>\n      <td>...</td>\n      <td>...</td>\n      <td>...</td>\n      <td>...</td>\n      <td>...</td>\n      <td>...</td>\n      <td>...</td>\n    </tr>\n    <tr>\n      <th>2056</th>\n      <td>672695</td>\n      <td>Geraldo Perdomo</td>\n      <td>1999-10-22</td>\n      <td>NaN</td>\n      <td>Santo Domingo</td>\n      <td>NaN</td>\n      <td>Dominican Republic</td>\n      <td>74</td>\n      <td>203</td>\n      <td>6</td>\n      <td>Shortstop</td>\n      <td>True</td>\n    </tr>\n    <tr>\n      <th>2057</th>\n      <td>672911</td>\n      <td>Jesus Cruz</td>\n      <td>1995-04-15</td>\n      <td>NaN</td>\n      <td>Salinas de Hidalgo</td>\n      <td>San Luis Potosi</td>\n      <td>Mexico</td>\n      <td>73</td>\n      <td>230</td>\n      <td>1</td>\n      <td>Pitcher</td>\n      <td>False</td>\n    </tr>\n    <tr>\n      <th>2058</th>\n      <td>676103</td>\n      <td>Damon Jones</td>\n      <td>1994-09-30</td>\n      <td>NaN</td>\n      <td>Twin Falls</td>\n      <td>ID</td>\n      <td>USA</td>\n      <td>77</td>\n      <td>233</td>\n      <td>1</td>\n      <td>Pitcher</td>\n      <td>True</td>\n    </tr>\n    <tr>\n      <th>2059</th>\n      <td>676755</td>\n      <td>Isaac Mattson</td>\n      <td>1995-07-14</td>\n      <td>NaN</td>\n      <td>Erie</td>\n      <td>PA</td>\n      <td>USA</td>\n      <td>74</td>\n      <td>205</td>\n      <td>1</td>\n      <td>Pitcher</td>\n      <td>True</td>\n    </tr>\n    <tr>\n      <th>2060</th>\n      <td>680430</td>\n      <td>Nick Allgeyer</td>\n      <td>1996-02-03</td>\n      <td>NaN</td>\n      <td>St. Louis</td>\n      <td>MO</td>\n      <td>USA</td>\n      <td>75</td>\n      <td>210</td>\n      <td>1</td>\n      <td>Pitcher</td>\n      <td>True</td>\n    </tr>\n  </tbody>\n</table>\n<p>2061 rows × 12 columns</p>\n</div>",
                "text/plain": "      playerId  ... playerForTestSetAndFuturePreds\n0       665482  ...                          False\n1       593590  ...                           True\n2       661269  ...                           True\n3       669212  ...                           True\n4       666201  ...                           True\n...        ...  ...                            ...\n2056    672695  ...                           True\n2057    672911  ...                          False\n2058    676103  ...                           True\n2059    676755  ...                           True\n2060    680430  ...                           True\n\n[2061 rows x 12 columns]"
              }
            ],
            "_view_module": "@jupyter-widgets/output",
            "_model_module_version": "1.0.0",
            "_view_count": null,
            "_view_module_version": "1.0.0",
            "layout": "IPY_MODEL_2af90ae3cdbd47d6801f2d34d126ea81",
            "_model_module": "@jupyter-widgets/output"
          }
        },
        "3d367171962347cb812d484f27124ec9": {
          "model_module": "@jupyter-widgets/output",
          "model_name": "OutputModel",
          "state": {
            "_view_name": "OutputView",
            "msg_id": "",
            "_dom_classes": [],
            "_model_name": "OutputModel",
            "outputs": [
              {
                "output_type": "display_data",
                "metadata": {
                  "tags": []
                },
                "text/html": "<div>\n<style scoped>\n    .dataframe tbody tr th:only-of-type {\n        vertical-align: middle;\n    }\n\n    .dataframe tbody tr th {\n        vertical-align: top;\n    }\n\n    .dataframe thead th {\n        text-align: right;\n    }\n</style>\n<table border=\"1\" class=\"dataframe\">\n  <thead>\n    <tr style=\"text-align: right;\">\n      <th></th>\n      <th>awardDate</th>\n      <th>awardSeason</th>\n      <th>awardId</th>\n      <th>awardName</th>\n      <th>playerId</th>\n      <th>playerName</th>\n      <th>awardPlayerTeamId</th>\n    </tr>\n  </thead>\n  <tbody>\n    <tr>\n      <th>0</th>\n      <td>2017-12-21</td>\n      <td>2017</td>\n      <td>WARRENSPAHN</td>\n      <td>Warren Spahn Award</td>\n      <td>477132</td>\n      <td>Clayton Kershaw</td>\n      <td>119.0</td>\n    </tr>\n    <tr>\n      <th>1</th>\n      <td>2017-12-20</td>\n      <td>2017</td>\n      <td>MILBORGAS</td>\n      <td>MiLB.com Organization All-Star</td>\n      <td>474319</td>\n      <td>Brandon Snyder</td>\n      <td>120.0</td>\n    </tr>\n    <tr>\n      <th>2</th>\n      <td>2017-12-20</td>\n      <td>2017</td>\n      <td>MILBORGAS</td>\n      <td>MiLB.com Organization All-Star</td>\n      <td>592530</td>\n      <td>Jose Marmolejos</td>\n      <td>120.0</td>\n    </tr>\n    <tr>\n      <th>3</th>\n      <td>2017-12-20</td>\n      <td>2017</td>\n      <td>MILBORGAS</td>\n      <td>MiLB.com Organization All-Star</td>\n      <td>593833</td>\n      <td>Wander Suero</td>\n      <td>120.0</td>\n    </tr>\n    <tr>\n      <th>4</th>\n      <td>2017-12-20</td>\n      <td>2017</td>\n      <td>MILBORGAS</td>\n      <td>MiLB.com Organization All-Star</td>\n      <td>600466</td>\n      <td>Raudy Read</td>\n      <td>120.0</td>\n    </tr>\n    <tr>\n      <th>...</th>\n      <td>...</td>\n      <td>...</td>\n      <td>...</td>\n      <td>...</td>\n      <td>...</td>\n      <td>...</td>\n      <td>...</td>\n    </tr>\n    <tr>\n      <th>11251</th>\n      <td>2000-08-27</td>\n      <td>2000</td>\n      <td>NLPOW</td>\n      <td>NL Player of the Week</td>\n      <td>134181</td>\n      <td>Adrian Beltre</td>\n      <td>119.0</td>\n    </tr>\n    <tr>\n      <th>11252</th>\n      <td>2000-07-09</td>\n      <td>2000</td>\n      <td>FUTURES</td>\n      <td>Futures Game Selection</td>\n      <td>282332</td>\n      <td>CC Sabathia</td>\n      <td>402.0</td>\n    </tr>\n    <tr>\n      <th>11253</th>\n      <td>1998-09-01</td>\n      <td>1998</td>\n      <td>TLPSAS</td>\n      <td>TEX Post-Season All-Star</td>\n      <td>134181</td>\n      <td>Adrian Beltre</td>\n      <td>510.0</td>\n    </tr>\n    <tr>\n      <th>11254</th>\n      <td>1998-07-07</td>\n      <td>1998</td>\n      <td>ALAS</td>\n      <td>AL All-Star</td>\n      <td>112526</td>\n      <td>Bartolo Colon</td>\n      <td>114.0</td>\n    </tr>\n    <tr>\n      <th>11255</th>\n      <td>1998-06-21</td>\n      <td>1998</td>\n      <td>ALPOW</td>\n      <td>AL Player of the Week</td>\n      <td>112526</td>\n      <td>Bartolo Colon</td>\n      <td>114.0</td>\n    </tr>\n  </tbody>\n</table>\n<p>11256 rows × 7 columns</p>\n</div>",
                "text/plain": "        awardDate  awardSeason  ...       playerName awardPlayerTeamId\n0      2017-12-21         2017  ...  Clayton Kershaw             119.0\n1      2017-12-20         2017  ...   Brandon Snyder             120.0\n2      2017-12-20         2017  ...  Jose Marmolejos             120.0\n3      2017-12-20         2017  ...     Wander Suero             120.0\n4      2017-12-20         2017  ...       Raudy Read             120.0\n...           ...          ...  ...              ...               ...\n11251  2000-08-27         2000  ...    Adrian Beltre             119.0\n11252  2000-07-09         2000  ...      CC Sabathia             402.0\n11253  1998-09-01         1998  ...    Adrian Beltre             510.0\n11254  1998-07-07         1998  ...    Bartolo Colon             114.0\n11255  1998-06-21         1998  ...    Bartolo Colon             114.0\n\n[11256 rows x 7 columns]"
              }
            ],
            "_view_module": "@jupyter-widgets/output",
            "_model_module_version": "1.0.0",
            "_view_count": null,
            "_view_module_version": "1.0.0",
            "layout": "IPY_MODEL_93d49d3abf0e43feb70d4427e7172aba",
            "_model_module": "@jupyter-widgets/output"
          }
        },
        "de3adf1da0e64b1e90031ad660a963a7": {
          "model_module": "@jupyter-widgets/base",
          "model_name": "LayoutModel",
          "state": {
            "_view_name": "LayoutView",
            "grid_template_rows": null,
            "right": null,
            "justify_content": null,
            "_view_module": "@jupyter-widgets/base",
            "overflow": null,
            "_model_module_version": "1.2.0",
            "_view_count": null,
            "flex_flow": null,
            "width": null,
            "min_width": null,
            "border": null,
            "align_items": null,
            "bottom": null,
            "_model_module": "@jupyter-widgets/base",
            "top": null,
            "grid_column": null,
            "overflow_y": null,
            "overflow_x": null,
            "grid_auto_flow": null,
            "grid_area": null,
            "grid_template_columns": null,
            "flex": null,
            "_model_name": "LayoutModel",
            "justify_items": null,
            "grid_row": null,
            "max_height": null,
            "align_content": null,
            "visibility": null,
            "align_self": null,
            "height": null,
            "min_height": null,
            "padding": null,
            "grid_auto_rows": null,
            "grid_gap": null,
            "max_width": null,
            "order": null,
            "_view_module_version": "1.2.0",
            "grid_template_areas": null,
            "object_position": null,
            "object_fit": null,
            "grid_auto_columns": null,
            "margin": null,
            "display": null,
            "left": null
          }
        },
        "5e09827e43ae4a9eb76119cfe7be1b77": {
          "model_module": "@jupyter-widgets/base",
          "model_name": "LayoutModel",
          "state": {
            "_view_name": "LayoutView",
            "grid_template_rows": null,
            "right": null,
            "justify_content": null,
            "_view_module": "@jupyter-widgets/base",
            "overflow": null,
            "_model_module_version": "1.2.0",
            "_view_count": null,
            "flex_flow": null,
            "width": null,
            "min_width": null,
            "border": null,
            "align_items": null,
            "bottom": null,
            "_model_module": "@jupyter-widgets/base",
            "top": null,
            "grid_column": null,
            "overflow_y": null,
            "overflow_x": null,
            "grid_auto_flow": null,
            "grid_area": null,
            "grid_template_columns": null,
            "flex": null,
            "_model_name": "LayoutModel",
            "justify_items": null,
            "grid_row": null,
            "max_height": null,
            "align_content": null,
            "visibility": null,
            "align_self": null,
            "height": null,
            "min_height": null,
            "padding": null,
            "grid_auto_rows": null,
            "grid_gap": null,
            "max_width": null,
            "order": null,
            "_view_module_version": "1.2.0",
            "grid_template_areas": null,
            "object_position": null,
            "object_fit": null,
            "grid_auto_columns": null,
            "margin": null,
            "display": null,
            "left": null
          }
        },
        "2af90ae3cdbd47d6801f2d34d126ea81": {
          "model_module": "@jupyter-widgets/base",
          "model_name": "LayoutModel",
          "state": {
            "_view_name": "LayoutView",
            "grid_template_rows": null,
            "right": null,
            "justify_content": null,
            "_view_module": "@jupyter-widgets/base",
            "overflow": null,
            "_model_module_version": "1.2.0",
            "_view_count": null,
            "flex_flow": null,
            "width": null,
            "min_width": null,
            "border": null,
            "align_items": null,
            "bottom": null,
            "_model_module": "@jupyter-widgets/base",
            "top": null,
            "grid_column": null,
            "overflow_y": null,
            "overflow_x": null,
            "grid_auto_flow": null,
            "grid_area": null,
            "grid_template_columns": null,
            "flex": null,
            "_model_name": "LayoutModel",
            "justify_items": null,
            "grid_row": null,
            "max_height": null,
            "align_content": null,
            "visibility": null,
            "align_self": null,
            "height": null,
            "min_height": null,
            "padding": null,
            "grid_auto_rows": null,
            "grid_gap": null,
            "max_width": null,
            "order": null,
            "_view_module_version": "1.2.0",
            "grid_template_areas": null,
            "object_position": null,
            "object_fit": null,
            "grid_auto_columns": null,
            "margin": null,
            "display": null,
            "left": null
          }
        },
        "93d49d3abf0e43feb70d4427e7172aba": {
          "model_module": "@jupyter-widgets/base",
          "model_name": "LayoutModel",
          "state": {
            "_view_name": "LayoutView",
            "grid_template_rows": null,
            "right": null,
            "justify_content": null,
            "_view_module": "@jupyter-widgets/base",
            "overflow": null,
            "_model_module_version": "1.2.0",
            "_view_count": null,
            "flex_flow": null,
            "width": null,
            "min_width": null,
            "border": null,
            "align_items": null,
            "bottom": null,
            "_model_module": "@jupyter-widgets/base",
            "top": null,
            "grid_column": null,
            "overflow_y": null,
            "overflow_x": null,
            "grid_auto_flow": null,
            "grid_area": null,
            "grid_template_columns": null,
            "flex": null,
            "_model_name": "LayoutModel",
            "justify_items": null,
            "grid_row": null,
            "max_height": null,
            "align_content": null,
            "visibility": null,
            "align_self": null,
            "height": null,
            "min_height": null,
            "padding": null,
            "grid_auto_rows": null,
            "grid_gap": null,
            "max_width": null,
            "order": null,
            "_view_module_version": "1.2.0",
            "grid_template_areas": null,
            "object_position": null,
            "object_fit": null,
            "grid_auto_columns": null,
            "margin": null,
            "display": null,
            "left": null
          }
        }
      }
    }
  },
  "cells": [
    {
      "cell_type": "markdown",
      "metadata": {
        "id": "tbFXUP4M3Hyz"
      },
      "source": [
        "<font size = \"13px;\">Kaggle Competition - [MLB Forecasting](https://www.kaggle.com/c/mlb-player-digital-engagement-forecasting/data)</font>"
      ]
    },
    {
      "cell_type": "markdown",
      "metadata": {
        "id": "5atbiJtN2_xj"
      },
      "source": [
        "**Binary columns** will have null values as well as zeroes. <br>\n",
        "**Zeroes** will occur if a player had an opportunity to do something, but did not.<br>\n",
        "**Nulls** will occur if a player never had the opportunity to do something (for example: a player who does not pitch on a given day cannot possibly pitch a shutout - therefore a null value is expected)"
      ]
    },
    {
      "cell_type": "markdown",
      "metadata": {
        "id": "nvtC9iTfjPWH"
      },
      "source": [
        "# Data Loading"
      ]
    },
    {
      "cell_type": "code",
      "metadata": {
        "id": "mKkzLs2pjR7z"
      },
      "source": [
        "import sys\n",
        "import csv\n",
        "\n",
        "csv.field_size_limit(100000000)"
      ],
      "execution_count": null,
      "outputs": []
    },
    {
      "cell_type": "code",
      "metadata": {
        "colab": {
          "base_uri": "https://localhost:8080/"
        },
        "id": "KaR7GJbfjSfw",
        "outputId": "040ae029-4321-4940-9d61-1b2acf46e63b"
      },
      "source": [
        "from google.colab import drive\n",
        "from matplotlib import pyplot as plt\n",
        "import pandas as pd\n",
        "import numpy as np\n",
        "\n",
        "drive.mount('/content/gdrive')\n",
        "\n",
        "filenames = ['teams', 'seasons', 'players', 'awards']\n",
        "path = \"/content/gdrive/My Drive/Colab Notebooks/MLB/\"\n",
        "\n",
        "for x in range(0, 6):\n",
        "    globals()['train%s' % x] = pd.read_csv(path + \"train_%s.csv\" % x, engine = 'python', error_bad_lines=False)\n",
        "\n",
        "for filename in filenames:\n",
        "    globals()['%s' % filename] = pd.read_csv(path + \"%s.csv\" % filename, engine = 'python', error_bad_lines=False)\n",
        "\n",
        "example_test = pd.read_csv('/content/gdrive/My Drive/Colab Notebooks/MLB/example_test.csv')\n",
        "example_sample_submission = pd.read_csv('/content/gdrive/My Drive/Colab Notebooks/MLB/example_sample_submission.csv')\n",
        "\n",
        "train = pd.concat([train0, train1, train2, train3, train4, train5], axis = 0)"
      ],
      "execution_count": 19,
      "outputs": [
        {
          "output_type": "stream",
          "text": [
            "Drive already mounted at /content/gdrive; to attempt to forcibly remount, call drive.mount(\"/content/gdrive\", force_remount=True).\n"
          ],
          "name": "stdout"
        }
      ]
    },
    {
      "cell_type": "code",
      "metadata": {
        "colab": {
          "base_uri": "https://localhost:8080/",
          "height": 1000,
          "referenced_widgets": [
            "c5386820c3454f8394a6901cb70621f1",
            "d0fe80be589848b3ad7d702b895f2121",
            "daeaa53b98564478b2709a7807e16ecd",
            "81f78160fa1b4dc380a0e1d6e4b4de91",
            "568b34002c254dfcb62502165d0838aa",
            "3d367171962347cb812d484f27124ec9",
            "de3adf1da0e64b1e90031ad660a963a7",
            "5e09827e43ae4a9eb76119cfe7be1b77",
            "2af90ae3cdbd47d6801f2d34d126ea81",
            "93d49d3abf0e43feb70d4427e7172aba"
          ]
        },
        "id": "UgdAag-ervlx",
        "outputId": "8a7d9764-b8e0-482c-8ed8-c4b1161cff22"
      },
      "source": [
        "import ipywidgets as widgets\n",
        "\n",
        "kaggle_data_tabs = widgets.Tab()\n",
        "kaggle_data_tabs.children = list([widgets.Output() for df_name in df_names])\n",
        "\n",
        "for index in range(0, len(df_names)):\n",
        "    \n",
        "    kaggle_data_tabs.set_title(index, df_names[index])\n",
        "    \n",
        "    with kaggle_data_tabs.children[index]:\n",
        "        display(eval(df_names[index]))\n",
        "\n",
        "display(kaggle_data_tabs)"
      ],
      "execution_count": 17,
      "outputs": [
        {
          "output_type": "display_data",
          "data": {
            "application/vnd.jupyter.widget-view+json": {
              "model_id": "c5386820c3454f8394a6901cb70621f1",
              "version_minor": 0,
              "version_major": 2
            },
            "text/plain": [
              "Tab(children=(Output(), Output(), Output(), Output()), _titles={'0': 'teams', '1': 'seasons', '2': 'players', …"
            ]
          },
          "metadata": {
            "tags": []
          }
        }
      ]
    },
    {
      "cell_type": "markdown",
      "metadata": {
        "id": "IsggCf_TkFUs"
      },
      "source": [
        "# EDA"
      ]
    },
    {
      "cell_type": "code",
      "metadata": {
        "id": "BMzr5aNHkFbJ"
      },
      "source": [
        ""
      ],
      "execution_count": null,
      "outputs": []
    },
    {
      "cell_type": "markdown",
      "metadata": {
        "id": "-j_DWlME4Rmx"
      },
      "source": [
        "# Preprocessing"
      ]
    },
    {
      "cell_type": "code",
      "metadata": {
        "colab": {
          "base_uri": "https://localhost:8080/"
        },
        "id": "kefnlm_gjbOW",
        "outputId": "2a97a7ac-ca23-4eb6-b3c4-fff0e08da39c"
      },
      "source": [
        "train.isna().sum()"
      ],
      "execution_count": 13,
      "outputs": [
        {
          "output_type": "execute_result",
          "data": {
            "text/plain": [
              "Unnamed: 0                    0\n",
              "date                          0\n",
              "nextDayPlayerEngagement       0\n",
              "games                       577\n",
              "rosters                       0\n",
              "playerBoxScores             678\n",
              "teamBoxScores               678\n",
              "transactions                112\n",
              "standings                   685\n",
              "awards                      919\n",
              "events                      680\n",
              "playerTwitterFollowers     1172\n",
              "teamTwitterFollowers       1172\n",
              "dtype: int64"
            ]
          },
          "metadata": {
            "tags": []
          },
          "execution_count": 13
        }
      ]
    },
    {
      "cell_type": "markdown",
      "metadata": {
        "id": "AC_AYlFsqIwc"
      },
      "source": [
        "## JSON Parsing (reffering to [this template](https://www.kaggle.com/ruriarmandhani/mlb-forecasting-ann))"
      ]
    },
    {
      "cell_type": "code",
      "metadata": {
        "id": "S81BxrkE3H9d"
      },
      "source": [
        "import tqdm\n",
        "from datetime import timedelta\n",
        "\n",
        "def json_to_df(df, column):\n",
        "    num_rows = len(df)\n",
        "    \n",
        "    data_list = []\n",
        "    for row in tqdm.tqdm(range(num_rows)):\n",
        "        \n",
        "        json_data = df.iloc[row][column]\n",
        "        if str(json_data) != \"nan\":\n",
        "            data = pd.read_json(json_data)\n",
        "            data_list.append(data)\n",
        "        \n",
        "    all_data = pd.concat(data_list, axis = 0)\n",
        "    \n",
        "    return all_data"
      ],
      "execution_count": 6,
      "outputs": []
    },
    {
      "cell_type": "markdown",
      "metadata": {
        "id": "I9QxeXFEdpu3"
      },
      "source": [
        "A 'player_engagement' column contatins 2018-01-01 ~ 2021-04-26 data."
      ]
    },
    {
      "cell_type": "code",
      "metadata": {
        "id": "y8Vpwiis3H_t",
        "colab": {
          "base_uri": "https://localhost:8080/",
          "height": 242
        },
        "outputId": "02529d2b-777d-4fdb-8234-3e26f4f3190f"
      },
      "source": [
        "player_engagement = json_to_df(train, 'nextDayPlayerEngagement')\n",
        "player_engagement.insert(0, 'date', pd.to_datetime(player_engagement['engagementMetricsDate'])-\\\n",
        "                                                   timedelta(days=1))\n",
        "player_engagement['engagementMetricsDate'] = pd.to_datetime(player_engagement['engagementMetricsDate'])\n",
        "player_engagement.reset_index(drop=True, inplace=True)\n",
        "print(player_engagement.shape)\n",
        "player_engagement.head()"
      ],
      "execution_count": 7,
      "outputs": [
        {
          "output_type": "stream",
          "text": [
            "100%|██████████| 1212/1212 [00:24<00:00, 49.42it/s]\n"
          ],
          "name": "stderr"
        },
        {
          "output_type": "stream",
          "text": [
            "(2497932, 7)\n"
          ],
          "name": "stdout"
        },
        {
          "output_type": "execute_result",
          "data": {
            "text/html": [
              "<div>\n",
              "<style scoped>\n",
              "    .dataframe tbody tr th:only-of-type {\n",
              "        vertical-align: middle;\n",
              "    }\n",
              "\n",
              "    .dataframe tbody tr th {\n",
              "        vertical-align: top;\n",
              "    }\n",
              "\n",
              "    .dataframe thead th {\n",
              "        text-align: right;\n",
              "    }\n",
              "</style>\n",
              "<table border=\"1\" class=\"dataframe\">\n",
              "  <thead>\n",
              "    <tr style=\"text-align: right;\">\n",
              "      <th></th>\n",
              "      <th>date</th>\n",
              "      <th>engagementMetricsDate</th>\n",
              "      <th>playerId</th>\n",
              "      <th>target1</th>\n",
              "      <th>target2</th>\n",
              "      <th>target3</th>\n",
              "      <th>target4</th>\n",
              "    </tr>\n",
              "  </thead>\n",
              "  <tbody>\n",
              "    <tr>\n",
              "      <th>0</th>\n",
              "      <td>2018-01-01</td>\n",
              "      <td>2018-01-02</td>\n",
              "      <td>628317</td>\n",
              "      <td>0.011167</td>\n",
              "      <td>4.474708</td>\n",
              "      <td>0.005168</td>\n",
              "      <td>5.735294</td>\n",
              "    </tr>\n",
              "    <tr>\n",
              "      <th>1</th>\n",
              "      <td>2018-01-01</td>\n",
              "      <td>2018-01-02</td>\n",
              "      <td>547989</td>\n",
              "      <td>0.042993</td>\n",
              "      <td>5.593385</td>\n",
              "      <td>0.045033</td>\n",
              "      <td>2.794118</td>\n",
              "    </tr>\n",
              "    <tr>\n",
              "      <th>2</th>\n",
              "      <td>2018-01-01</td>\n",
              "      <td>2018-01-02</td>\n",
              "      <td>519317</td>\n",
              "      <td>0.974327</td>\n",
              "      <td>56.177043</td>\n",
              "      <td>13.693746</td>\n",
              "      <td>64.166667</td>\n",
              "    </tr>\n",
              "    <tr>\n",
              "      <th>3</th>\n",
              "      <td>2018-01-01</td>\n",
              "      <td>2018-01-02</td>\n",
              "      <td>607625</td>\n",
              "      <td>0.006700</td>\n",
              "      <td>2.675097</td>\n",
              "      <td>0.005168</td>\n",
              "      <td>1.862745</td>\n",
              "    </tr>\n",
              "    <tr>\n",
              "      <th>4</th>\n",
              "      <td>2018-01-01</td>\n",
              "      <td>2018-01-02</td>\n",
              "      <td>592547</td>\n",
              "      <td>0.001117</td>\n",
              "      <td>0.632296</td>\n",
              "      <td>0.002953</td>\n",
              "      <td>0.931373</td>\n",
              "    </tr>\n",
              "  </tbody>\n",
              "</table>\n",
              "</div>"
            ],
            "text/plain": [
              "        date engagementMetricsDate  playerId  ...    target2    target3    target4\n",
              "0 2018-01-01            2018-01-02    628317  ...   4.474708   0.005168   5.735294\n",
              "1 2018-01-01            2018-01-02    547989  ...   5.593385   0.045033   2.794118\n",
              "2 2018-01-01            2018-01-02    519317  ...  56.177043  13.693746  64.166667\n",
              "3 2018-01-01            2018-01-02    607625  ...   2.675097   0.005168   1.862745\n",
              "4 2018-01-01            2018-01-02    592547  ...   0.632296   0.002953   0.931373\n",
              "\n",
              "[5 rows x 7 columns]"
            ]
          },
          "metadata": {
            "tags": []
          },
          "execution_count": 7
        }
      ]
    },
    {
      "cell_type": "code",
      "metadata": {
        "colab": {
          "base_uri": "https://localhost:8080/",
          "height": 419
        },
        "id": "7yEQBKGtdj9h",
        "outputId": "54617909-2513-4f99-bad6-1d72feae572b"
      },
      "source": [
        "player_engagement"
      ],
      "execution_count": 9,
      "outputs": [
        {
          "output_type": "execute_result",
          "data": {
            "text/html": [
              "<div>\n",
              "<style scoped>\n",
              "    .dataframe tbody tr th:only-of-type {\n",
              "        vertical-align: middle;\n",
              "    }\n",
              "\n",
              "    .dataframe tbody tr th {\n",
              "        vertical-align: top;\n",
              "    }\n",
              "\n",
              "    .dataframe thead th {\n",
              "        text-align: right;\n",
              "    }\n",
              "</style>\n",
              "<table border=\"1\" class=\"dataframe\">\n",
              "  <thead>\n",
              "    <tr style=\"text-align: right;\">\n",
              "      <th></th>\n",
              "      <th>date</th>\n",
              "      <th>engagementMetricsDate</th>\n",
              "      <th>playerId</th>\n",
              "      <th>target1</th>\n",
              "      <th>target2</th>\n",
              "      <th>target3</th>\n",
              "      <th>target4</th>\n",
              "    </tr>\n",
              "  </thead>\n",
              "  <tbody>\n",
              "    <tr>\n",
              "      <th>0</th>\n",
              "      <td>2018-01-01</td>\n",
              "      <td>2018-01-02</td>\n",
              "      <td>628317</td>\n",
              "      <td>0.011167</td>\n",
              "      <td>4.474708</td>\n",
              "      <td>0.005168</td>\n",
              "      <td>5.735294</td>\n",
              "    </tr>\n",
              "    <tr>\n",
              "      <th>1</th>\n",
              "      <td>2018-01-01</td>\n",
              "      <td>2018-01-02</td>\n",
              "      <td>547989</td>\n",
              "      <td>0.042993</td>\n",
              "      <td>5.593385</td>\n",
              "      <td>0.045033</td>\n",
              "      <td>2.794118</td>\n",
              "    </tr>\n",
              "    <tr>\n",
              "      <th>2</th>\n",
              "      <td>2018-01-01</td>\n",
              "      <td>2018-01-02</td>\n",
              "      <td>519317</td>\n",
              "      <td>0.974327</td>\n",
              "      <td>56.177043</td>\n",
              "      <td>13.693746</td>\n",
              "      <td>64.166667</td>\n",
              "    </tr>\n",
              "    <tr>\n",
              "      <th>3</th>\n",
              "      <td>2018-01-01</td>\n",
              "      <td>2018-01-02</td>\n",
              "      <td>607625</td>\n",
              "      <td>0.006700</td>\n",
              "      <td>2.675097</td>\n",
              "      <td>0.005168</td>\n",
              "      <td>1.862745</td>\n",
              "    </tr>\n",
              "    <tr>\n",
              "      <th>4</th>\n",
              "      <td>2018-01-01</td>\n",
              "      <td>2018-01-02</td>\n",
              "      <td>592547</td>\n",
              "      <td>0.001117</td>\n",
              "      <td>0.632296</td>\n",
              "      <td>0.002953</td>\n",
              "      <td>0.931373</td>\n",
              "    </tr>\n",
              "    <tr>\n",
              "      <th>...</th>\n",
              "      <td>...</td>\n",
              "      <td>...</td>\n",
              "      <td>...</td>\n",
              "      <td>...</td>\n",
              "      <td>...</td>\n",
              "      <td>...</td>\n",
              "      <td>...</td>\n",
              "    </tr>\n",
              "    <tr>\n",
              "      <th>2497927</th>\n",
              "      <td>2021-04-26</td>\n",
              "      <td>2021-04-27</td>\n",
              "      <td>642100</td>\n",
              "      <td>0.000000</td>\n",
              "      <td>0.021540</td>\n",
              "      <td>0.000000</td>\n",
              "      <td>0.194422</td>\n",
              "    </tr>\n",
              "    <tr>\n",
              "      <th>2497928</th>\n",
              "      <td>2021-04-26</td>\n",
              "      <td>2021-04-27</td>\n",
              "      <td>571679</td>\n",
              "      <td>0.000324</td>\n",
              "      <td>0.018463</td>\n",
              "      <td>0.000000</td>\n",
              "      <td>0.100563</td>\n",
              "    </tr>\n",
              "    <tr>\n",
              "      <th>2497929</th>\n",
              "      <td>2021-04-26</td>\n",
              "      <td>2021-04-27</td>\n",
              "      <td>664199</td>\n",
              "      <td>0.001785</td>\n",
              "      <td>0.166169</td>\n",
              "      <td>0.000000</td>\n",
              "      <td>0.583266</td>\n",
              "    </tr>\n",
              "    <tr>\n",
              "      <th>2497930</th>\n",
              "      <td>2021-04-26</td>\n",
              "      <td>2021-04-27</td>\n",
              "      <td>595453</td>\n",
              "      <td>0.008112</td>\n",
              "      <td>0.547743</td>\n",
              "      <td>0.000000</td>\n",
              "      <td>0.415661</td>\n",
              "    </tr>\n",
              "    <tr>\n",
              "      <th>2497931</th>\n",
              "      <td>2021-04-26</td>\n",
              "      <td>2021-04-27</td>\n",
              "      <td>506703</td>\n",
              "      <td>0.000000</td>\n",
              "      <td>0.009232</td>\n",
              "      <td>0.000000</td>\n",
              "      <td>0.060338</td>\n",
              "    </tr>\n",
              "  </tbody>\n",
              "</table>\n",
              "<p>2497932 rows × 7 columns</p>\n",
              "</div>"
            ],
            "text/plain": [
              "              date engagementMetricsDate  ...    target3    target4\n",
              "0       2018-01-01            2018-01-02  ...   0.005168   5.735294\n",
              "1       2018-01-01            2018-01-02  ...   0.045033   2.794118\n",
              "2       2018-01-01            2018-01-02  ...  13.693746  64.166667\n",
              "3       2018-01-01            2018-01-02  ...   0.005168   1.862745\n",
              "4       2018-01-01            2018-01-02  ...   0.002953   0.931373\n",
              "...            ...                   ...  ...        ...        ...\n",
              "2497927 2021-04-26            2021-04-27  ...   0.000000   0.194422\n",
              "2497928 2021-04-26            2021-04-27  ...   0.000000   0.100563\n",
              "2497929 2021-04-26            2021-04-27  ...   0.000000   0.583266\n",
              "2497930 2021-04-26            2021-04-27  ...   0.000000   0.415661\n",
              "2497931 2021-04-26            2021-04-27  ...   0.000000   0.060338\n",
              "\n",
              "[2497932 rows x 7 columns]"
            ]
          },
          "metadata": {
            "tags": []
          },
          "execution_count": 9
        }
      ]
    },
    {
      "cell_type": "code",
      "metadata": {
        "id": "F3cNgteO3IES",
        "colab": {
          "base_uri": "https://localhost:8080/",
          "height": 626
        },
        "outputId": "fc7d0936-b870-4daa-cfb4-c494c106395c"
      },
      "source": [
        "train"
      ],
      "execution_count": 8,
      "outputs": [
        {
          "output_type": "execute_result",
          "data": {
            "text/html": [
              "<div>\n",
              "<style scoped>\n",
              "    .dataframe tbody tr th:only-of-type {\n",
              "        vertical-align: middle;\n",
              "    }\n",
              "\n",
              "    .dataframe tbody tr th {\n",
              "        vertical-align: top;\n",
              "    }\n",
              "\n",
              "    .dataframe thead th {\n",
              "        text-align: right;\n",
              "    }\n",
              "</style>\n",
              "<table border=\"1\" class=\"dataframe\">\n",
              "  <thead>\n",
              "    <tr style=\"text-align: right;\">\n",
              "      <th></th>\n",
              "      <th>Unnamed: 0</th>\n",
              "      <th>date</th>\n",
              "      <th>nextDayPlayerEngagement</th>\n",
              "      <th>games</th>\n",
              "      <th>rosters</th>\n",
              "      <th>playerBoxScores</th>\n",
              "      <th>teamBoxScores</th>\n",
              "      <th>transactions</th>\n",
              "      <th>standings</th>\n",
              "      <th>awards</th>\n",
              "      <th>events</th>\n",
              "      <th>playerTwitterFollowers</th>\n",
              "      <th>teamTwitterFollowers</th>\n",
              "    </tr>\n",
              "  </thead>\n",
              "  <tbody>\n",
              "    <tr>\n",
              "      <th>0</th>\n",
              "      <td>0</td>\n",
              "      <td>20180101</td>\n",
              "      <td>[{\"engagementMetricsDate\":\"2018-01-02\",\"player...</td>\n",
              "      <td>NaN</td>\n",
              "      <td>[{\"playerId\":400121,\"gameDate\":\"2018-01-01\",\"t...</td>\n",
              "      <td>NaN</td>\n",
              "      <td>NaN</td>\n",
              "      <td>[{\"transactionId\":340732,\"playerId\":547348,\"pl...</td>\n",
              "      <td>NaN</td>\n",
              "      <td>NaN</td>\n",
              "      <td>NaN</td>\n",
              "      <td>[{\"date\":\"2018-01-01\",\"playerId\":545361,\"playe...</td>\n",
              "      <td>[{\"date\":\"2018-01-01\",\"teamId\":147,\"teamName\":...</td>\n",
              "    </tr>\n",
              "    <tr>\n",
              "      <th>1</th>\n",
              "      <td>1</td>\n",
              "      <td>20180102</td>\n",
              "      <td>[{\"engagementMetricsDate\":\"2018-01-03\",\"player...</td>\n",
              "      <td>NaN</td>\n",
              "      <td>[{\"playerId\":134181,\"gameDate\":\"2018-01-02\",\"t...</td>\n",
              "      <td>NaN</td>\n",
              "      <td>NaN</td>\n",
              "      <td>[{\"transactionId\":339458,\"playerId\":621173,\"pl...</td>\n",
              "      <td>NaN</td>\n",
              "      <td>NaN</td>\n",
              "      <td>NaN</td>\n",
              "      <td>NaN</td>\n",
              "      <td>NaN</td>\n",
              "    </tr>\n",
              "    <tr>\n",
              "      <th>2</th>\n",
              "      <td>2</td>\n",
              "      <td>20180103</td>\n",
              "      <td>[{\"engagementMetricsDate\":\"2018-01-04\",\"player...</td>\n",
              "      <td>NaN</td>\n",
              "      <td>[{\"playerId\":425492,\"gameDate\":\"2018-01-03\",\"t...</td>\n",
              "      <td>NaN</td>\n",
              "      <td>NaN</td>\n",
              "      <td>[{\"transactionId\":347527,\"playerId\":572389,\"pl...</td>\n",
              "      <td>NaN</td>\n",
              "      <td>NaN</td>\n",
              "      <td>NaN</td>\n",
              "      <td>NaN</td>\n",
              "      <td>NaN</td>\n",
              "    </tr>\n",
              "    <tr>\n",
              "      <th>3</th>\n",
              "      <td>3</td>\n",
              "      <td>20180104</td>\n",
              "      <td>[{\"engagementMetricsDate\":\"2018-01-05\",\"player...</td>\n",
              "      <td>NaN</td>\n",
              "      <td>[{\"playerId\":282332,\"gameDate\":\"2018-01-04\",\"t...</td>\n",
              "      <td>NaN</td>\n",
              "      <td>NaN</td>\n",
              "      <td>[{\"transactionId\":339549,\"playerId\":545343,\"pl...</td>\n",
              "      <td>NaN</td>\n",
              "      <td>NaN</td>\n",
              "      <td>NaN</td>\n",
              "      <td>NaN</td>\n",
              "      <td>NaN</td>\n",
              "    </tr>\n",
              "    <tr>\n",
              "      <th>4</th>\n",
              "      <td>4</td>\n",
              "      <td>20180105</td>\n",
              "      <td>[{\"engagementMetricsDate\":\"2018-01-06\",\"player...</td>\n",
              "      <td>NaN</td>\n",
              "      <td>[{\"playerId\":282332,\"gameDate\":\"2018-01-05\",\"t...</td>\n",
              "      <td>NaN</td>\n",
              "      <td>NaN</td>\n",
              "      <td>[{\"transactionId\":341195,\"playerId\":628336,\"pl...</td>\n",
              "      <td>NaN</td>\n",
              "      <td>NaN</td>\n",
              "      <td>NaN</td>\n",
              "      <td>NaN</td>\n",
              "      <td>NaN</td>\n",
              "    </tr>\n",
              "    <tr>\n",
              "      <th>...</th>\n",
              "      <td>...</td>\n",
              "      <td>...</td>\n",
              "      <td>...</td>\n",
              "      <td>...</td>\n",
              "      <td>...</td>\n",
              "      <td>...</td>\n",
              "      <td>...</td>\n",
              "      <td>...</td>\n",
              "      <td>...</td>\n",
              "      <td>...</td>\n",
              "      <td>...</td>\n",
              "      <td>...</td>\n",
              "      <td>...</td>\n",
              "    </tr>\n",
              "    <tr>\n",
              "      <th>197</th>\n",
              "      <td>1207</td>\n",
              "      <td>20210422</td>\n",
              "      <td>[{\"engagementMetricsDate\":\"2021-04-23\",\"player...</td>\n",
              "      <td>[{\"gamePk\":634508,\"gameType\":\"R\",\"season\":2021...</td>\n",
              "      <td>[{\"playerId\":405395,\"gameDate\":\"2021-04-22\",\"t...</td>\n",
              "      <td>[{\"home\":1,\"gamePk\":634419,\"gameDate\":\"2021-04...</td>\n",
              "      <td>[{\"home\":1,\"teamId\":137,\"gamePk\":634432,\"gameD...</td>\n",
              "      <td>[{\"transactionId\":479064,\"playerId\":null,\"play...</td>\n",
              "      <td>[{\"season\":2021,\"gameDate\":\"2021-04-22\",\"divis...</td>\n",
              "      <td>NaN</td>\n",
              "      <td>[{\"gamePk\":634436,\"gameDate\":\"2021-04-22\",\"gam...</td>\n",
              "      <td>NaN</td>\n",
              "      <td>NaN</td>\n",
              "    </tr>\n",
              "    <tr>\n",
              "      <th>198</th>\n",
              "      <td>1208</td>\n",
              "      <td>20210423</td>\n",
              "      <td>[{\"engagementMetricsDate\":\"2021-04-24\",\"player...</td>\n",
              "      <td>[{\"gamePk\":634369,\"gameType\":\"R\",\"season\":2021...</td>\n",
              "      <td>[{\"playerId\":405395,\"gameDate\":\"2021-04-23\",\"t...</td>\n",
              "      <td>[{\"home\":0,\"gamePk\":634413,\"gameDate\":\"2021-04...</td>\n",
              "      <td>[{\"home\":0,\"teamId\":134,\"gamePk\":634434,\"gameD...</td>\n",
              "      <td>[{\"transactionId\":479236,\"playerId\":461872,\"pl...</td>\n",
              "      <td>[{\"season\":2021,\"gameDate\":\"2021-04-23\",\"divis...</td>\n",
              "      <td>NaN</td>\n",
              "      <td>[{\"gamePk\":634378,\"gameDate\":\"2021-04-23\",\"gam...</td>\n",
              "      <td>NaN</td>\n",
              "      <td>NaN</td>\n",
              "    </tr>\n",
              "    <tr>\n",
              "      <th>199</th>\n",
              "      <td>1209</td>\n",
              "      <td>20210424</td>\n",
              "      <td>[{\"engagementMetricsDate\":\"2021-04-25\",\"player...</td>\n",
              "      <td>[{\"gamePk\":634358,\"gameType\":\"R\",\"season\":2021...</td>\n",
              "      <td>[{\"playerId\":405395,\"gameDate\":\"2021-04-24\",\"t...</td>\n",
              "      <td>[{\"home\":0,\"gamePk\":634358,\"gameDate\":\"2021-04...</td>\n",
              "      <td>[{\"home\":1,\"teamId\":138,\"gamePk\":634395,\"gameD...</td>\n",
              "      <td>[{\"transactionId\":479350,\"playerId\":608686,\"pl...</td>\n",
              "      <td>[{\"season\":2021,\"gameDate\":\"2021-04-24\",\"divis...</td>\n",
              "      <td>NaN</td>\n",
              "      <td>[{\"gamePk\":634361,\"gameDate\":\"2021-04-24\",\"gam...</td>\n",
              "      <td>NaN</td>\n",
              "      <td>NaN</td>\n",
              "    </tr>\n",
              "    <tr>\n",
              "      <th>200</th>\n",
              "      <td>1210</td>\n",
              "      <td>20210425</td>\n",
              "      <td>[{\"engagementMetricsDate\":\"2021-04-26\",\"player...</td>\n",
              "      <td>[{\"gamePk\":634344,\"gameType\":\"R\",\"season\":2021...</td>\n",
              "      <td>[{\"playerId\":408234,\"gameDate\":\"2021-04-25\",\"t...</td>\n",
              "      <td>[{\"home\":1,\"gamePk\":634344,\"gameDate\":\"2021-04...</td>\n",
              "      <td>[{\"home\":0,\"teamId\":141,\"gamePk\":634376,\"gameD...</td>\n",
              "      <td>[{\"transactionId\":479358,\"playerId\":642092,\"pl...</td>\n",
              "      <td>[{\"season\":2021,\"gameDate\":\"2021-04-25\",\"divis...</td>\n",
              "      <td>[{\"awardId\":\"NLPOW\",\"awardName\":\"NL Player of ...</td>\n",
              "      <td>[{\"gamePk\":634376,\"gameDate\":\"2021-04-25\",\"gam...</td>\n",
              "      <td>NaN</td>\n",
              "      <td>NaN</td>\n",
              "    </tr>\n",
              "    <tr>\n",
              "      <th>201</th>\n",
              "      <td>1211</td>\n",
              "      <td>20210426</td>\n",
              "      <td>[{\"engagementMetricsDate\":\"2021-04-27\",\"player...</td>\n",
              "      <td>[{\"gamePk\":634374,\"gameType\":\"R\",\"season\":2021...</td>\n",
              "      <td>[{\"playerId\":405395,\"gameDate\":\"2021-04-26\",\"t...</td>\n",
              "      <td>[{\"home\":1,\"gamePk\":634377,\"gameDate\":\"2021-04...</td>\n",
              "      <td>[{\"home\":1,\"teamId\":139,\"gamePk\":634343,\"gameD...</td>\n",
              "      <td>[{\"transactionId\":480386,\"playerId\":543685,\"pl...</td>\n",
              "      <td>[{\"season\":2021,\"gameDate\":\"2021-04-26\",\"divis...</td>\n",
              "      <td>NaN</td>\n",
              "      <td>[{\"gamePk\":634433,\"gameDate\":\"2021-04-26\",\"gam...</td>\n",
              "      <td>NaN</td>\n",
              "      <td>NaN</td>\n",
              "    </tr>\n",
              "  </tbody>\n",
              "</table>\n",
              "<p>1212 rows × 13 columns</p>\n",
              "</div>"
            ],
            "text/plain": [
              "     Unnamed: 0  ...                               teamTwitterFollowers\n",
              "0             0  ...  [{\"date\":\"2018-01-01\",\"teamId\":147,\"teamName\":...\n",
              "1             1  ...                                                NaN\n",
              "2             2  ...                                                NaN\n",
              "3             3  ...                                                NaN\n",
              "4             4  ...                                                NaN\n",
              "..          ...  ...                                                ...\n",
              "197        1207  ...                                                NaN\n",
              "198        1208  ...                                                NaN\n",
              "199        1209  ...                                                NaN\n",
              "200        1210  ...                                                NaN\n",
              "201        1211  ...                                                NaN\n",
              "\n",
              "[1212 rows x 13 columns]"
            ]
          },
          "metadata": {
            "tags": []
          },
          "execution_count": 8
        }
      ]
    },
    {
      "cell_type": "code",
      "metadata": {
        "id": "5rUtHhgK3IGu"
      },
      "source": [
        ""
      ],
      "execution_count": null,
      "outputs": []
    },
    {
      "cell_type": "code",
      "metadata": {
        "id": "UNI1Da2Rj-KW"
      },
      "source": [
        ""
      ],
      "execution_count": null,
      "outputs": []
    },
    {
      "cell_type": "markdown",
      "metadata": {
        "id": "QfLl3UGIj-RV"
      },
      "source": [
        "# Modeling"
      ]
    },
    {
      "cell_type": "code",
      "metadata": {
        "id": "eMD7I5Eoj_bg"
      },
      "source": [
        ""
      ],
      "execution_count": null,
      "outputs": []
    },
    {
      "cell_type": "code",
      "metadata": {
        "id": "NpjG4HoWkAAI"
      },
      "source": [
        ""
      ],
      "execution_count": null,
      "outputs": []
    },
    {
      "cell_type": "code",
      "metadata": {
        "id": "qMgizl9TkACu"
      },
      "source": [
        ""
      ],
      "execution_count": null,
      "outputs": []
    },
    {
      "cell_type": "markdown",
      "metadata": {
        "id": "Swd-SDs9kAI4"
      },
      "source": [
        "# Evaluation"
      ]
    },
    {
      "cell_type": "markdown",
      "metadata": {
        "id": "TZd7sWVnqrP3"
      },
      "source": [
        "[Nice template](https://www.kaggle.com/ryanholbrook/getting-started-with-mlb-player-digital-engagement)"
      ]
    },
    {
      "cell_type": "code",
      "metadata": {
        "colab": {
          "base_uri": "https://localhost:8080/",
          "height": 309
        },
        "id": "GJ48DfOqkBl-",
        "outputId": "b2513bb3-dd05-4cb2-e8b3-0a5e07671de5"
      },
      "source": [
        "import mlb\n",
        "env = mlb.make_env() # initialize the environment\n",
        "iter_test = env.iter_test() # iterator which loops over each date in test set\n",
        "\n",
        "for (test_df, sample_prediction_df) in iter_test:\n",
        "    sample_prediction_df['target1'] = 100 #make predictions here\n",
        "    env.predict(sample_prediction_df)"
      ],
      "execution_count": 14,
      "outputs": [
        {
          "output_type": "execute_result",
          "data": {
            "text/html": [
              "<div>\n",
              "<style scoped>\n",
              "    .dataframe tbody tr th:only-of-type {\n",
              "        vertical-align: middle;\n",
              "    }\n",
              "\n",
              "    .dataframe tbody tr th {\n",
              "        vertical-align: top;\n",
              "    }\n",
              "\n",
              "    .dataframe thead th {\n",
              "        text-align: right;\n",
              "    }\n",
              "</style>\n",
              "<table border=\"1\" class=\"dataframe\">\n",
              "  <thead>\n",
              "    <tr style=\"text-align: right;\">\n",
              "      <th></th>\n",
              "      <th>date</th>\n",
              "      <th>games</th>\n",
              "      <th>rosters</th>\n",
              "      <th>playerBoxScores</th>\n",
              "      <th>teamBoxScores</th>\n",
              "      <th>transactions</th>\n",
              "      <th>standings</th>\n",
              "      <th>awards</th>\n",
              "      <th>events</th>\n",
              "      <th>playerTwitterFollowers</th>\n",
              "      <th>teamTwitterFollowers</th>\n",
              "    </tr>\n",
              "  </thead>\n",
              "  <tbody>\n",
              "    <tr>\n",
              "      <th>0</th>\n",
              "      <td>20210426</td>\n",
              "      <td>[{\"gamePk\":634374,\"gameType\":\"R\",\"season\":2021...</td>\n",
              "      <td>[{\"playerId\":405395,\"gameDate\":\"2021-04-26\",\"t...</td>\n",
              "      <td>[{\"home\":1,\"gamePk\":634377,\"gameDate\":\"2021-04...</td>\n",
              "      <td>[{\"home\":1,\"teamId\":139,\"gamePk\":634343,\"gameD...</td>\n",
              "      <td>[{\"transactionId\":480386,\"playerId\":543685,\"pl...</td>\n",
              "      <td>[{\"season\":2021,\"gameDate\":\"2021-04-26\",\"divis...</td>\n",
              "      <td>NaN</td>\n",
              "      <td>[{\"gamePk\":634433,\"gameDate\":\"2021-04-26\",\"gam...</td>\n",
              "      <td>NaN</td>\n",
              "      <td>NaN</td>\n",
              "    </tr>\n",
              "    <tr>\n",
              "      <th>1</th>\n",
              "      <td>20210427</td>\n",
              "      <td>[{\"gamePk\":634318,\"gameType\":\"R\",\"season\":2021...</td>\n",
              "      <td>[{\"playerId\":443558,\"gameDate\":\"2021-04-27\",\"t...</td>\n",
              "      <td>[{\"home\":1,\"gamePk\":634320,\"gameDate\":\"2021-04...</td>\n",
              "      <td>[{\"home\":1,\"teamId\":117,\"gamePk\":634333,\"gameD...</td>\n",
              "      <td>[{\"transactionId\":480456,\"playerId\":642162,\"pl...</td>\n",
              "      <td>[{\"season\":2021,\"gameDate\":\"2021-04-27\",\"divis...</td>\n",
              "      <td>NaN</td>\n",
              "      <td>[{\"gamePk\":634332,\"gameDate\":\"2021-04-27\",\"gam...</td>\n",
              "      <td>NaN</td>\n",
              "      <td>NaN</td>\n",
              "    </tr>\n",
              "    <tr>\n",
              "      <th>2</th>\n",
              "      <td>20210428</td>\n",
              "      <td>[{\"gamePk\":634309,\"gameType\":\"R\",\"season\":2021...</td>\n",
              "      <td>[{\"playerId\":429722,\"gameDate\":\"2021-04-28\",\"t...</td>\n",
              "      <td>[{\"home\":1,\"gamePk\":634310,\"gameDate\":\"2021-04...</td>\n",
              "      <td>[{\"home\":0,\"teamId\":111,\"gamePk\":634310,\"gameD...</td>\n",
              "      <td>[{\"transactionId\":480728,\"playerId\":545358,\"pl...</td>\n",
              "      <td>[{\"season\":2021,\"gameDate\":\"2021-04-28\",\"divis...</td>\n",
              "      <td>NaN</td>\n",
              "      <td>[{\"gamePk\":634317,\"gameDate\":\"2021-04-28\",\"gam...</td>\n",
              "      <td>NaN</td>\n",
              "      <td>NaN</td>\n",
              "    </tr>\n",
              "    <tr>\n",
              "      <th>3</th>\n",
              "      <td>20210429</td>\n",
              "      <td>[{\"gamePk\":634330,\"gameType\":\"R\",\"season\":2021...</td>\n",
              "      <td>[{\"playerId\":405395,\"gameDate\":\"2021-04-29\",\"t...</td>\n",
              "      <td>[{\"home\":1,\"gamePk\":634330,\"gameDate\":\"2021-04...</td>\n",
              "      <td>[{\"home\":0,\"teamId\":119,\"gamePk\":634346,\"gameD...</td>\n",
              "      <td>[{\"transactionId\":480993,\"playerId\":606965,\"pl...</td>\n",
              "      <td>[{\"season\":2021,\"gameDate\":\"2021-04-29\",\"divis...</td>\n",
              "      <td>NaN</td>\n",
              "      <td>[{\"gamePk\":634346,\"gameDate\":\"2021-04-29\",\"gam...</td>\n",
              "      <td>NaN</td>\n",
              "      <td>NaN</td>\n",
              "    </tr>\n",
              "    <tr>\n",
              "      <th>4</th>\n",
              "      <td>20210430</td>\n",
              "      <td>[{\"gamePk\":634287,\"gameType\":\"R\",\"season\":2021...</td>\n",
              "      <td>[{\"playerId\":405395,\"gameDate\":\"2021-04-30\",\"t...</td>\n",
              "      <td>[{\"home\":1,\"gamePk\":634305,\"gameDate\":\"2021-04...</td>\n",
              "      <td>[{\"home\":1,\"teamId\":135,\"gamePk\":634303,\"gameD...</td>\n",
              "      <td>NaN</td>\n",
              "      <td>[{\"season\":2021,\"gameDate\":\"2021-04-30\",\"divis...</td>\n",
              "      <td>[{\"awardId\":\"NLRRELMON\",\"awardName\":\"NL Reliev...</td>\n",
              "      <td>[{\"gamePk\":634327,\"gameDate\":\"2021-04-30\",\"gam...</td>\n",
              "      <td>NaN</td>\n",
              "      <td>NaN</td>\n",
              "    </tr>\n",
              "  </tbody>\n",
              "</table>\n",
              "</div>"
            ],
            "text/plain": [
              "       date  ... teamTwitterFollowers\n",
              "0  20210426  ...                  NaN\n",
              "1  20210427  ...                  NaN\n",
              "2  20210428  ...                  NaN\n",
              "3  20210429  ...                  NaN\n",
              "4  20210430  ...                  NaN\n",
              "\n",
              "[5 rows x 11 columns]"
            ]
          },
          "metadata": {
            "tags": []
          },
          "execution_count": 14
        }
      ]
    },
    {
      "cell_type": "code",
      "metadata": {
        "id": "V5bdwjIUkCKC"
      },
      "source": [
        ""
      ],
      "execution_count": null,
      "outputs": []
    }
  ]
}